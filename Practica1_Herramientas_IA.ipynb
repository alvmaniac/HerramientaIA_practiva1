{
 "cells": [
  {
   "cell_type": "markdown",
   "id": "0f06e87a",
   "metadata": {},
   "source": [
    "# Análisis de Ventas de una Tienda Minorista\n",
    "Este notebook analiza un conjunto de datos de ventas ficticio, utilizando Pandas y visualizaciones con Matplotlib y Seaborn."
   ]
  },
  {
   "cell_type": "code",
   "execution_count": 6,
   "id": "623736ed",
   "metadata": {},
   "outputs": [],
   "source": [
    "# Importar librerías\n",
    "import pandas as pd\n",
    "import matplotlib.pyplot as plt\n",
    "import seaborn as sns\n",
    "\n",
    "# Configurar estilo de gráficos\n",
    "sns.set(style='whitegrid')"
   ]
  },
  {
   "cell_type": "code",
   "execution_count": 7,
   "id": "040497da",
   "metadata": {},
   "outputs": [
    {
     "data": {
      "text/html": [
       "<div>\n",
       "<style scoped>\n",
       "    .dataframe tbody tr th:only-of-type {\n",
       "        vertical-align: middle;\n",
       "    }\n",
       "\n",
       "    .dataframe tbody tr th {\n",
       "        vertical-align: top;\n",
       "    }\n",
       "\n",
       "    .dataframe thead th {\n",
       "        text-align: right;\n",
       "    }\n",
       "</style>\n",
       "<table border=\"1\" class=\"dataframe\">\n",
       "  <thead>\n",
       "    <tr style=\"text-align: right;\">\n",
       "      <th></th>\n",
       "      <th>Fecha</th>\n",
       "      <th>Producto</th>\n",
       "      <th>Cantidad</th>\n",
       "      <th>PrecioUnitario</th>\n",
       "    </tr>\n",
       "  </thead>\n",
       "  <tbody>\n",
       "    <tr>\n",
       "      <th>0</th>\n",
       "      <td>2025-05-01</td>\n",
       "      <td>Pan</td>\n",
       "      <td>4</td>\n",
       "      <td>0.5</td>\n",
       "    </tr>\n",
       "    <tr>\n",
       "      <th>1</th>\n",
       "      <td>2025-05-01</td>\n",
       "      <td>Leche</td>\n",
       "      <td>2</td>\n",
       "      <td>1.2</td>\n",
       "    </tr>\n",
       "    <tr>\n",
       "      <th>2</th>\n",
       "      <td>2025-05-02</td>\n",
       "      <td>Queso</td>\n",
       "      <td>1</td>\n",
       "      <td>3.5</td>\n",
       "    </tr>\n",
       "    <tr>\n",
       "      <th>3</th>\n",
       "      <td>2025-05-02</td>\n",
       "      <td>Pan</td>\n",
       "      <td>3</td>\n",
       "      <td>0.5</td>\n",
       "    </tr>\n",
       "    <tr>\n",
       "      <th>4</th>\n",
       "      <td>2025-05-03</td>\n",
       "      <td>Leche</td>\n",
       "      <td>2</td>\n",
       "      <td>1.2</td>\n",
       "    </tr>\n",
       "  </tbody>\n",
       "</table>\n",
       "</div>"
      ],
      "text/plain": [
       "        Fecha Producto  Cantidad  PrecioUnitario\n",
       "0  2025-05-01      Pan         4             0.5\n",
       "1  2025-05-01    Leche         2             1.2\n",
       "2  2025-05-02    Queso         1             3.5\n",
       "3  2025-05-02      Pan         3             0.5\n",
       "4  2025-05-03    Leche         2             1.2"
      ]
     },
     "execution_count": 7,
     "metadata": {},
     "output_type": "execute_result"
    }
   ],
   "source": [
    "# Cargar archivo CSV\n",
    "df = pd.read_csv('ventas_tienda.csv')\n",
    "df.head()"
   ]
  },
  {
   "cell_type": "code",
   "execution_count": 8,
   "id": "cac5a3dd",
   "metadata": {},
   "outputs": [
    {
     "data": {
      "text/html": [
       "<div>\n",
       "<style scoped>\n",
       "    .dataframe tbody tr th:only-of-type {\n",
       "        vertical-align: middle;\n",
       "    }\n",
       "\n",
       "    .dataframe tbody tr th {\n",
       "        vertical-align: top;\n",
       "    }\n",
       "\n",
       "    .dataframe thead th {\n",
       "        text-align: right;\n",
       "    }\n",
       "</style>\n",
       "<table border=\"1\" class=\"dataframe\">\n",
       "  <thead>\n",
       "    <tr style=\"text-align: right;\">\n",
       "      <th></th>\n",
       "      <th>Fecha</th>\n",
       "      <th>Producto</th>\n",
       "      <th>Cantidad</th>\n",
       "      <th>PrecioUnitario</th>\n",
       "      <th>TotalVenta</th>\n",
       "      <th>DiaSemana</th>\n",
       "      <th>Categoria</th>\n",
       "      <th>Volumen</th>\n",
       "    </tr>\n",
       "  </thead>\n",
       "  <tbody>\n",
       "    <tr>\n",
       "      <th>0</th>\n",
       "      <td>2025-05-01</td>\n",
       "      <td>Pan</td>\n",
       "      <td>4</td>\n",
       "      <td>0.5</td>\n",
       "      <td>2.0</td>\n",
       "      <td>Thursday</td>\n",
       "      <td>Panadería</td>\n",
       "      <td>Alto</td>\n",
       "    </tr>\n",
       "    <tr>\n",
       "      <th>1</th>\n",
       "      <td>2025-05-01</td>\n",
       "      <td>Leche</td>\n",
       "      <td>2</td>\n",
       "      <td>1.2</td>\n",
       "      <td>2.4</td>\n",
       "      <td>Thursday</td>\n",
       "      <td>Lácteos</td>\n",
       "      <td>Bajo</td>\n",
       "    </tr>\n",
       "    <tr>\n",
       "      <th>2</th>\n",
       "      <td>2025-05-02</td>\n",
       "      <td>Queso</td>\n",
       "      <td>1</td>\n",
       "      <td>3.5</td>\n",
       "      <td>3.5</td>\n",
       "      <td>Friday</td>\n",
       "      <td>Lácteos</td>\n",
       "      <td>Bajo</td>\n",
       "    </tr>\n",
       "    <tr>\n",
       "      <th>3</th>\n",
       "      <td>2025-05-02</td>\n",
       "      <td>Pan</td>\n",
       "      <td>3</td>\n",
       "      <td>0.5</td>\n",
       "      <td>1.5</td>\n",
       "      <td>Friday</td>\n",
       "      <td>Panadería</td>\n",
       "      <td>Alto</td>\n",
       "    </tr>\n",
       "    <tr>\n",
       "      <th>4</th>\n",
       "      <td>2025-05-03</td>\n",
       "      <td>Leche</td>\n",
       "      <td>2</td>\n",
       "      <td>1.2</td>\n",
       "      <td>2.4</td>\n",
       "      <td>Saturday</td>\n",
       "      <td>Lácteos</td>\n",
       "      <td>Bajo</td>\n",
       "    </tr>\n",
       "  </tbody>\n",
       "</table>\n",
       "</div>"
      ],
      "text/plain": [
       "        Fecha Producto  Cantidad  PrecioUnitario  TotalVenta DiaSemana  \\\n",
       "0  2025-05-01      Pan         4             0.5         2.0  Thursday   \n",
       "1  2025-05-01    Leche         2             1.2         2.4  Thursday   \n",
       "2  2025-05-02    Queso         1             3.5         3.5    Friday   \n",
       "3  2025-05-02      Pan         3             0.5         1.5    Friday   \n",
       "4  2025-05-03    Leche         2             1.2         2.4  Saturday   \n",
       "\n",
       "   Categoria Volumen  \n",
       "0  Panadería    Alto  \n",
       "1    Lácteos    Bajo  \n",
       "2    Lácteos    Bajo  \n",
       "3  Panadería    Alto  \n",
       "4    Lácteos    Bajo  "
      ]
     },
     "execution_count": 8,
     "metadata": {},
     "output_type": "execute_result"
    }
   ],
   "source": [
    "# Crear nuevas columnas derivadas\n",
    "df['TotalVenta'] = df['Cantidad'] * df['PrecioUnitario']\n",
    "df['DiaSemana'] = pd.to_datetime(df['Fecha']).dt.day_name()\n",
    "df['Categoria'] = df['Producto'].apply(lambda x: 'Lácteos' if x in ['Leche', 'Queso'] else 'Panadería')\n",
    "df['Volumen'] = df['Cantidad'].apply(lambda x: 'Alto' if x >= 3 else 'Bajo')\n",
    "df.head()"
   ]
  },
  {
   "cell_type": "code",
   "execution_count": 9,
   "id": "7d68cbbb",
   "metadata": {},
   "outputs": [
    {
     "data": {
      "image/png": "[encoded data removed]",
      "text/plain": [
       "<Figure size 800x500 with 1 Axes>"
      ]
     },
     "metadata": {},
     "output_type": "display_data"
    }
   ],
   "source": [
    "# Visualización 1: Total de ventas por producto\n",
    "plt.figure(figsize=(8,5))\n",
    "sns.barplot(x='Producto', y='TotalVenta', data=df, estimator=sum)\n",
    "plt.title('Total de ventas por producto')\n",
    "plt.xlabel('Producto')\n",
    "plt.ylabel('Total de ventas ($)')\n",
    "plt.tight_layout()\n",
    "plt.show()"
   ]
  },
  {
   "cell_type": "code",
   "execution_count": 10,
   "id": "a783015b",
   "metadata": {},
   "outputs": [
    {
     "data": {
      "image/png": "[encoded data removed]",
      "text/plain": [
       "<Figure size 600x600 with 1 Axes>"
      ]
     },
     "metadata": {},
     "output_type": "display_data"
    }
   ],
   "source": [
    "# Visualización 2: Distribución por categoría de productos\n",
    "plt.figure(figsize=(6,6))\n",
    "df['Categoria'].value_counts().plot.pie(autopct='%1.1f%%', startangle=90)\n",
    "plt.title('Distribución de productos por categoría')\n",
    "plt.ylabel('')\n",
    "plt.tight_layout()\n",
    "plt.show()"
   ]
  },
  {
   "cell_type": "markdown",
   "id": "c39c8623",
   "metadata": {},
   "source": [
    "## Conclusiones\n",
    "- Se observa que el producto más vendido en total es el Pan.\n",
    "- La mayoría de los productos pertenecen a la categoría 'Panadería'.\n",
    "- El análisis puede ser útil para tomar decisiones sobre inventario y promociones."
   ]
  },
  {
   "cell_type": "code",
   "execution_count": null,
   "id": "15f8e852-409f-4d09-bd3c-11832cad42b6",
   "metadata": {},
   "outputs": [],
   "source": []
  },
  {
   "cell_type": "code",
   "execution_count": null,
   "id": "c1ce3991-e7a3-438d-a539-15a9a9e8f383",
   "metadata": {},
   "outputs": [],
   "source": []
  }
 ],
 "metadata": {
  "kernelspec": {
   "display_name": "Python 3 (ipykernel)",
   "language": "python",
   "name": "python3"
  },
  "language_info": {
   "codemirror_mode": {
    "name": "ipython",
    "version": 3
   },
   "file_extension": ".py",
   "mimetype": "text/x-python",
   "name": "python",
   "nbconvert_exporter": "python",
   "pygments_lexer": "ipython3",
   "version": "3.12.5"
  }
 },
 "nbformat": 4,
 "nbformat_minor": 5
}
